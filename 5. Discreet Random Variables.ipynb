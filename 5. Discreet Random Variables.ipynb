{
 "cells": [
  {
   "cell_type": "markdown",
   "metadata": {},
   "source": []
  },
  {
   "cell_type": "markdown",
   "metadata": {},
   "source": [
    "## Random Variable\n",
    "A random variable is a function that maps the sample space S into a subset of the real line.\n",
    "\n",
    "X - Random variable - known deterministic function, which maps $s_i$ to $x_i$ <br/>\n",
    "\n",
    "$X :: S \\rightarrow R$, $s_i \\leftarrow S, x_i \\leftarrow R$\n",
    "\n",
    "the discrete random variable, which is one that takes on a finite or countably infinite number of values.\n",
    "\n",
    "$S$ - Original sample space <br/>\n",
    "$S_X$ - new sample space\n",
    "\n",
    "### Probability Mass Function\n",
    "\n",
    "$px[x_i] = P[X(s) = x_i]$\n",
    "\n",
    "probability mass function maps the real numbers x_i to their probabilities\n",
    "\n",
    "$P :: S \\rightarrow [0,1]$\n",
    "\n",
    "$X :: S \\rightarrow R$\n",
    "\n",
    "$px :: R \\rightarrow [0,1]$\n",
    "\n",
    "In summary, the probability mass function is the probability that the random variable X takes on the value x_i for each possible x_i.\n",
    "\n"
   ]
  },
  {
   "cell_type": "code",
   "execution_count": 1,
   "metadata": {},
   "outputs": [
    {
     "data": {
      "text/plain": [
       "1"
      ]
     },
     "execution_count": 1,
     "metadata": {},
     "output_type": "execute_result"
    }
   ],
   "source": [
    "0**0"
   ]
  }
 ],
 "metadata": {
  "kernelspec": {
   "display_name": "Python 3.8.1 64-bit ('py38': conda)",
   "language": "python",
   "name": "python38164bitpy38conda967c08f5c3d0422a8f1710f914d7f0ce"
  },
  "language_info": {
   "codemirror_mode": {
    "name": "ipython",
    "version": 3
   },
   "file_extension": ".py",
   "mimetype": "text/x-python",
   "name": "python",
   "nbconvert_exporter": "python",
   "pygments_lexer": "ipython3",
   "version": "3.8.2"
  }
 },
 "nbformat": 4,
 "nbformat_minor": 4
}
