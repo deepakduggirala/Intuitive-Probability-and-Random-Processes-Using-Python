{
 "cells": [
  {
   "cell_type": "code",
   "execution_count": 6,
   "metadata": {},
   "outputs": [],
   "source": [
    "#renders matplotlib plots in the notebook\n",
    "%matplotlib notebook \n",
    "\n",
    "#enables tab autocomplete feature\n",
    "%config IPCompleter.greedy=True \n",
    "\n",
    "import numpy as np\n",
    "import matplotlib.pyplot as plt\n",
    "from scipy.stats import norm"
   ]
  },
  {
   "cell_type": "markdown",
   "metadata": {},
   "source": [
    "## Random Variable\n",
    "A random variable is a function that maps the sample space S into a subset of the real line.\n",
    "\n",
    "X - Random variable - known deterministic function, which maps $s_i$ to $x_i$ <br/>\n",
    "\n",
    "$X :: S \\rightarrow R$, $s_i \\leftarrow S, x_i \\leftarrow Z$\n",
    "\n",
    "the discrete random variable, which is one that takes on a finite or countably infinite number of values.\n",
    "\n",
    "$S$ - Original sample space <br/>\n",
    "$S_X$ - new sample space\n",
    "\n",
    "### Probability Mass Function\n",
    "\n",
    "$px[x_i] = P[X(s) = x_i]$\n",
    "\n",
    "probability mass function maps the real numbers x_i to their probabilities\n",
    "\n",
    "$P :: S \\rightarrow [0,1]$\n",
    "\n",
    "$X :: S \\rightarrow Z$\n",
    "\n",
    "$px :: Z \\rightarrow [0,1]$\n",
    "\n",
    "In summary, the probability mass function is the probability that the random variable X takes on the value x_i for each possible x_i.\n",
    "\n",
    "**Convention**: $X(s)$ is represented as just $X$\n",
    "\n",
    "![random variable and PMF](files/random_variable_and_PMF.jpg)"
   ]
  },
  {
   "cell_type": "markdown",
   "metadata": {},
   "source": [
    "### Bernoulli PMF\n",
    "\n",
    "Bernoulli experiment has only 2 outcomes, success and failure.\n",
    "\n",
    "$X  \\sim  Ber(p)$ means $X$ is distributed as per the Bernoulli probability mass function where probability of success is p."
   ]
  },
  {
   "cell_type": "markdown",
   "metadata": {},
   "source": [
    "### Binomial PMF\n",
    "\n",
    "$bin(M,k) = \\left ( {M \\atop k} \\right )p^k(1-p)^{M-k}$\n",
    "\n",
    "Since $bin(M,k)$ is PMF does $\\sum_{k=0}^{k=M} bin(M,k) = 1$?"
   ]
  },
  {
   "cell_type": "code",
   "execution_count": 12,
   "metadata": {},
   "outputs": [
    {
     "name": "stdout",
     "output_type": "stream",
     "text": [
      "1.0\n"
     ]
    }
   ],
   "source": [
    "from utils import utils\n",
    "\n",
    "M = 50\n",
    "p = 0.5\n",
    "\n",
    "K = np.arange(0,M+1)\n",
    "S = np.sum([utils.binomial_probability(M, k, p) for k in K])\n",
    "print(S)\n",
    "assert np.abs(S - 1) < 1e-6"
   ]
  },
  {
   "cell_type": "markdown",
   "metadata": {},
   "source": [
    "### Geometric PMF\n",
    "page 113 (5.7)\n",
    "\n",
    "The probability that the first success occurs at experiment / trial k\n",
    "\n",
    "$p_X[k] = (1-p)^{(1-k)}p^k$\n",
    "\n",
    "### Poisson PMF\n",
    "page 113 (5.8)\n",
    "\n",
    "$p_X[k] = e^{-\\lambda}  \\lambda^k / k!$\n"
   ]
  },
  {
   "cell_type": "markdown",
   "metadata": {},
   "source": [
    "## Random Variable Transformation\n",
    "\n",
    "![random variable transformation](files/transformed_random_variable.jpg)\n",
    "\n",
    "\n",
    "If the transformation is one-to-one then finding the new PMF is straight forward. For every element of the transformed set, the probability is the same it's image in the original set.\n",
    "\n",
    "If the transformation is many-to-one then $P_Y(y_i)$ is the summation of PMF of all $x$ that map to $y_i$\n",
    "\n",
    "$$P_Y[y] = \\sum_{\\forall g(x_i) = y}^{}P_X[x_i]$$"
   ]
  },
  {
   "cell_type": "markdown",
   "metadata": {},
   "source": [
    "## Cumulative Distributive Function"
   ]
  }
 ],
 "metadata": {
  "kernelspec": {
   "display_name": "Python 3.8.1 64-bit ('py38': conda)",
   "language": "python",
   "name": "python38164bitpy38conda967c08f5c3d0422a8f1710f914d7f0ce"
  },
  "language_info": {
   "codemirror_mode": {
    "name": "ipython",
    "version": 3
   },
   "file_extension": ".py",
   "mimetype": "text/x-python",
   "name": "python",
   "nbconvert_exporter": "python",
   "pygments_lexer": "ipython3",
   "version": "3.8.2"
  }
 },
 "nbformat": 4,
 "nbformat_minor": 4
}
