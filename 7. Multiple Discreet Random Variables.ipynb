{
 "cells": [
  {
   "cell_type": "code",
   "execution_count": 1,
   "metadata": {},
   "outputs": [],
   "source": [
    "#renders matplotlib plots in the notebook\n",
    "%matplotlib notebook \n",
    "\n",
    "#enables tab autocomplete feature\n",
    "%config IPCompleter.greedy=True \n",
    "\n",
    "import numpy as np\n",
    "import matplotlib.pyplot as plt\n",
    "from scipy.stats import norm"
   ]
  },
  {
   "cell_type": "markdown",
   "metadata": {},
   "source": [
    "## Jointly Distributed Random Variables\n",
    "\n",
    "random variables maps the same outcome in the sample space to different numbers are said to be jointly distributed\n",
    "\n",
    "ex: Consider an expirement of randomly picking a student, the random variables that map height and weight are called joint random variables.\n",
    "\n",
    "$ [ X(s_i) Y(s_i) ]^T = [x_i y_i]^T$\n",
    "\n",
    "- The terms Multiple random variables and random vector are used interchangeably\n",
    "\n",
    "### Joint PMF or bivariate PMF\n",
    "\n",
    "$P_{X,Y}[x_i, y_i] = P[X(s) = x_i, Y(s) = y_i]$\n",
    "\n",
    "joint PMF maps the random vector (points in a plane if two joint random variables) to [0, 1]\n",
    "\n",
    "Joint PMF follows all the properties of a normal PMF\n",
    "- $0 \\le P_{X,Y}[x_i, y_i] \\le 1$ lies between 0 and 1\n",
    "- $\\sum_{i=1}^{N_x} \\sum_{j=1}^{N_y} P_{X,Y}[x_i, y_i] = 1$ sum of probabilities of all possibilities is 1"
   ]
  }
 ],
 "metadata": {
  "kernelspec": {
   "display_name": "Python 3.8.1 64-bit ('py38': conda)",
   "language": "python",
   "name": "python38164bitpy38conda967c08f5c3d0422a8f1710f914d7f0ce"
  },
  "language_info": {
   "codemirror_mode": {
    "name": "ipython",
    "version": 3
   },
   "file_extension": ".py",
   "mimetype": "text/x-python",
   "name": "python",
   "nbconvert_exporter": "python",
   "pygments_lexer": "ipython3",
   "version": "3.8.2"
  }
 },
 "nbformat": 4,
 "nbformat_minor": 4
}
