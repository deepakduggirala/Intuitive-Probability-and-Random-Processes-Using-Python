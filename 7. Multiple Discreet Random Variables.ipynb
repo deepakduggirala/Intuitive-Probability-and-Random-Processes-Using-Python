{
 "cells": [
  {
   "cell_type": "code",
   "execution_count": 1,
   "metadata": {},
   "outputs": [],
   "source": [
    "#renders matplotlib plots in the notebook\n",
    "%matplotlib notebook \n",
    "\n",
    "#enables tab autocomplete feature\n",
    "%config IPCompleter.greedy=True \n",
    "\n",
    "import numpy as np\n",
    "import matplotlib.pyplot as plt\n",
    "from scipy.stats import norm"
   ]
  },
  {
   "cell_type": "markdown",
   "metadata": {},
   "source": [
    "## Jointly Distributed Random Variables\n",
    "\n",
    "random variables maps the same outcome in the sample space to different numbers are said to be jointly distributed\n",
    "\n",
    "ex: Consider an expirement of randomly picking a student, the random variables that map height and weight are called joint random variables.\n",
    "\n",
    "$ [ X(s_i) Y(s_i) ]^T = [x_i y_i]^T$\n",
    "\n",
    "- The terms Multiple random variables and random vector are used interchangeably\n",
    "\n",
    "### Joint PMF or bivariate PMF\n",
    "\n",
    "$P_{X,Y}[x_i, y_i] = P[X(s) = x_i, Y(s) = y_i]$\n",
    "\n",
    "joint PMF maps the random vector (points in a plane if two joint random variables) to [0, 1]\n",
    "\n",
    "Joint PMF follows all the properties of a normal PMF\n",
    "- $0 \\le P_{X,Y}[x_i, y_i] \\le 1$ lies between 0 and 1\n",
    "- $\\sum_{i=1}^{N_x} \\sum_{j=1}^{N_y} P_{X,Y}[x_i, y_i] = 1$ sum of probabilities of all possibilities is 1\n",
    "\n",
    "### Marginal PDF\n",
    "\n",
    "If the joint PMF is known, then the PMF for X and the PMF for Y can be derived. These derived PMFs are called Marginal PMFs\n",
    "\n",
    "Inorder to find out the PMF of X, we iterate through each $x_i$ in all the pairs like $(x_i, y_j)$. For each $x_k$ find all tuples $(x_k, y_j)$ and sum all its probabilities\n",
    "\n",
    "$P_X(x_i) = \\sum_{j} P_{X,Y}(x_i, y_j)$\n",
    "\n",
    "The term marginal orginates because people sum up the probabilites and write the sum in the gutter / margin of the graph.\n",
    "\n",
    "#### Properties\n",
    "- Given marginal probabilites of X and Y, the PMF cannot be constructed because there are infinite joint PMFs yeilding the same marginal PMFs.\n",
    "- Marginal PMF of X is independent of Y and vice-versa, that is the probability of $y_k$ happenning regardless the outcome of X. The dependency information is lost when marginal probabilities are dervied, therefore it is impossible to build joint PMF from marginal PMFs, unless it is given that X and Y are independent.\n",
    "\n",
    "### Joint Cumulative Distribution Function (CDF)\n",
    "\n",
    "$F_{XY}(x,y) = P[X \\le x, Y \\le y]$\n",
    "\n",
    "$F_{XY}(x,y) = \\sum_{(i,j): x_i \\le x, y_j \\le y} P_{X,Y}[x_i, y_j]$\n",
    "\n",
    "For all points / pairs $(x_i, y_j)$ where $x_i \\le x, y_j \\le y$ sum up their probabilities\n",
    "\n",
    "#### Properties\n",
    "- $0 \\le F_{XY}(x,y) \\le 1$\n",
    "- Values at the endpoints\n",
    "    - $F_{XY}(-\\inf,-\\inf) = 0$\n",
    "    - $F_{XY}(\\inf,\\inf) = 1$\n",
    "- Monotonically increasing with x or y increasing\n",
    "- CDF is right continuous, $CDF(x^{-}, y) \\lt CDF(x,y) = CDF(x^{+},y)$ (discreet random variables)\n",
    "\n",
    "### Independence of Multiple Random Variables\n",
    "\n",
    "$P_{X,Y}[x_i,y_i]=P_X[X_i]P_Y[Y_j]$\n",
    "\n",
    "Hence,if X and Y are independent random variables, the joint PMF factors into the product of the marginal PMFs. Furthermore, the converse is true - if the joint PMF factors, then X and Y are independent.\n",
    "\n",
    "### Transformation of Multiple Random Variables\n",
    "\n",
    "X is transformed into W = g(X,Y)\n",
    "Y is transformed into Z = h(X,Y)\n",
    "\n",
    "As in the case of transformation of a single discreet random variable Y = f(X), the PMF of Y is sum of probabilities of all x_i which map to y_i, we can define the new PMF of W,Z as the sum of all pairs of (x_i, y_i) which map to (w_i, z_i)\n",
    "\n",
    "$p_{W,Z} = \\sum_{(k,l): g(x_k,y_l) = w_i, h(x_k, y_l) = z_i} p_{X,Y}[x_i,y_i]$\n",
    "\n",
    "### Expected Values\n",
    "\n",
    "$E_{X,Y}[g[X,Y]] = \\sum_{i}\\sum_{j}g(x_i,y_j)p_{X,Y}[x_i, y_j]$\n",
    "\n",
    "#### Expected value of sum of random variables\n",
    "$g(X,Y) = X+Y$\n",
    "\n",
    "$E_{X,Y}[X+Y] = \\sum_{i}\\sum_{j}(x_i+y_j)p_{X,Y}[x_i, y_j]$\n",
    "\n",
    "$E_{X,Y}[X+Y] = \\sum_{i}\\sum_{j}x_ip_{X,Y}[x_i, y_j] + \\sum_{i}\\sum_{j}y_jp_{X,Y}[x_i, y_j]$\n",
    "\n",
    "$E_{X,Y}[X+Y] = \\sum_{i}x_i(\\sum_{j}p_{X,Y}[x_i, y_j]) + \\sum_{j}y_j(\\sum_{i}p_{X,Y}[x_i, y_j])$\n",
    "\n",
    "applying Marginal PDF equation\n",
    "\n",
    "$E_{X,Y}[X+Y] = \\sum_{i}x_iP_X(x_i) + \\sum_{j}y_jP_Y(y_j)$\n",
    "\n",
    "applying single variable expected value equation\n",
    "\n",
    "$E_{X,Y}[X+Y] = E_X[X] + E_Y[Y]$\n",
    "\n",
    "in general\n",
    "\n",
    "$E_{X,Y}[aX+bY] = aE_X[X] + bE_Y[Y]$\n",
    "\n",
    "#### Expected value of product of random variables\n",
    "\n",
    "$g(X,Y) = XY$\n",
    "\n",
    "$E_{X,Y}[XY] = E_X[X]E_Y[Y]$\n",
    "\n",
    "in general\n",
    "\n",
    "$E_{X,Y}[g(X)h(Y)] = E_X[g(X)]E_Y[h(Y)]$\n",
    "\n",
    "#### Variance of sum of random variables\n",
    "\n",
    "$Var(X+Y) = Var(X) + Var(Y) + 2Cov(X,Y)$\n",
    "\n",
    "$Cov(X,Y) = E_{XY}[(X - E_X[X])(Y - E_Y(Y))]$\n",
    "\n",
    "$Cov(X,Y) = E_{XY}[XY] - E_X[X]E_Y[Y]$\n",
    "\n"
   ]
  },
  {
   "cell_type": "code",
   "execution_count": 2,
   "metadata": {},
   "outputs": [],
   "source": [
    "import numpy as np"
   ]
  },
  {
   "cell_type": "code",
   "execution_count": 5,
   "metadata": {},
   "outputs": [
    {
     "data": {
      "text/plain": [
       "array([[-0.0472956 , -0.99253432,  0.14311947],\n",
       "       [ 0.77520517,  0.06156918, -1.13162869],\n",
       "       [ 0.10575575, -0.33657037,  0.88463182]])"
      ]
     },
     "execution_count": 5,
     "metadata": {},
     "output_type": "execute_result"
    }
   ],
   "source": [
    "a = np.random.randn(3, 3)\n",
    "b = np.random.randn(3, 1)\n",
    "c = a*b\n",
    "c"
   ]
  },
  {
   "cell_type": "code",
   "execution_count": 7,
   "metadata": {},
   "outputs": [
    {
     "data": {
      "text/plain": [
       "(3,)"
      ]
     },
     "execution_count": 7,
     "metadata": {},
     "output_type": "execute_result"
    }
   ],
   "source": [
    "v = np.random.random(3)\n",
    "v.shape"
   ]
  }
 ],
 "metadata": {
  "kernelspec": {
   "display_name": "Python 3.8.1 64-bit ('py38': conda)",
   "language": "python",
   "name": "python38164bitpy38conda967c08f5c3d0422a8f1710f914d7f0ce"
  },
  "language_info": {
   "codemirror_mode": {
    "name": "ipython",
    "version": 3
   },
   "file_extension": ".py",
   "mimetype": "text/x-python",
   "name": "python",
   "nbconvert_exporter": "python",
   "pygments_lexer": "ipython3",
   "version": "3.8.2"
  }
 },
 "nbformat": 4,
 "nbformat_minor": 4
}
