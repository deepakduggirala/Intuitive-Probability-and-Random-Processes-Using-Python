{
 "cells": [
  {
   "cell_type": "code",
   "execution_count": 1,
   "metadata": {},
   "outputs": [],
   "source": [
    "#renders matplotlib plots in the notebook\n",
    "%matplotlib notebook \n",
    "\n",
    "#enables tab autocomplete feature\n",
    "%config IPCompleter.greedy=True \n",
    "\n",
    "import numpy as np\n",
    "import matplotlib.pyplot as plt\n",
    "from scipy.stats import norm"
   ]
  },
  {
   "cell_type": "markdown",
   "metadata": {},
   "source": [
    "## Random Variable\n",
    "A random variable is a function that maps the sample space S into a subset of the real line.\n",
    "\n",
    "X - Random variable - known deterministic function, which maps $s_i$ to $x_i$ <br/>\n",
    "\n",
    "$X :: S \\rightarrow R$, $s_i \\leftarrow S, x_i \\leftarrow Z$\n",
    "\n",
    "the discrete random variable, which is one that takes on a finite or countably infinite number of values.\n",
    "\n",
    "$S$ - Original sample space <br/>\n",
    "$S_X$ - new sample space\n",
    "\n",
    "### Probability Mass Function\n",
    "\n",
    "$px[x_i] = P[X(s) = x_i]$\n",
    "\n",
    "probability mass function maps the real numbers x_i to their probabilities\n",
    "\n",
    "$P :: S \\rightarrow [0,1]$\n",
    "\n",
    "$X :: S \\rightarrow Z$\n",
    "\n",
    "$px :: Z \\rightarrow [0,1]$\n",
    "\n",
    "In summary, the probability mass function is the probability that the random variable X takes on the value x_i for each possible x_i.\n",
    "\n",
    "**Convention**: $X(s)$ is represented as just $X$\n",
    "\n",
    "![random variable and PMF](files/random_variable_and_PMF.jpg)"
   ]
  },
  {
   "cell_type": "markdown",
   "metadata": {},
   "source": [
    "### Bernoulli PMF\n",
    "\n",
    "Bernoulli experiment has only 2 outcomes, success and failure.\n",
    "\n",
    "$X  \\sim  Ber(p)$ means $X$ is distributed as per the Bernoulli probability mass function where probability of success is p."
   ]
  },
  {
   "cell_type": "markdown",
   "metadata": {},
   "source": [
    "### Binomial PMF\n",
    "\n",
    "$bin(M,k) = \\left ( {M \\atop k} \\right )p^k(1-p)^{M-k}$\n",
    "\n",
    "Since $bin(M,k)$ is PMF does $\\sum_{k=0}^{k=M} bin(M,k) = 1$?"
   ]
  },
  {
   "cell_type": "code",
   "execution_count": 12,
   "metadata": {},
   "outputs": [
    {
     "name": "stdout",
     "output_type": "stream",
     "text": [
      "1.0\n"
     ]
    }
   ],
   "source": [
    "from utils import utils\n",
    "\n",
    "M = 50\n",
    "p = 0.5\n",
    "\n",
    "K = np.arange(0,M+1)\n",
    "S = np.sum([utils.binomial_probability(M, k, p) for k in K])\n",
    "print(S)\n",
    "assert np.abs(S - 1) < 1e-6"
   ]
  },
  {
   "cell_type": "markdown",
   "metadata": {},
   "source": [
    "### Geometric PMF\n",
    "page 113 (5.7)\n",
    "\n",
    "The probability that the first success occurs at experiment / trial k\n",
    "\n",
    "$p_X[k] = (1-p)^{(1-k)}p^k$\n",
    "\n",
    "### Poisson PMF\n",
    "page 113 (5.8)\n",
    "\n",
    "$p_X[k] = e^{-\\lambda}  \\lambda^k / k!$\n"
   ]
  },
  {
   "cell_type": "markdown",
   "metadata": {},
   "source": [
    "## Random Variable Transformation\n",
    "\n",
    "![random variable transformation](files/transformed_random_variable.jpg)\n",
    "\n",
    "\n",
    "If the transformation is one-to-one then finding the new PMF is straight forward. For every element of the transformed set, the probability is the same it's image in the original set.\n",
    "\n",
    "If the transformation is many-to-one then $P_Y(y_i)$ is the summation of PMF of all $x$ that map to $y_i$\n",
    "\n",
    "$$P_Y[y] = \\sum_{\\forall g(x_i) = y}^{}P_X[x_i]$$"
   ]
  },
  {
   "cell_type": "markdown",
   "metadata": {},
   "source": [
    "## Cumulative Distribution Function\n",
    "\n",
    "Also called as distribution function\n",
    "\n",
    "$$F_X(x) = P[X <= x]  -\\infty < x < \\infty$$\n",
    "\n",
    "Cumulative Distribution Function of random variable X is the probability of X less than or equal to x and it can be computed by summing up all probabilities of X less than or equal to x\n",
    "\n",
    "### For discreet random variables, the cdf is right continuous.\n",
    "\n",
    "$P[a < X <b] = F_X[a^{+}] - F_X[b^{+}]$\n",
    "\n",
    "$a^{+}$ is the right neighborhood of a\n",
    "\n",
    "### cdf from $-\\infty < x < \\infty$ is 1\n",
    "This is nothing but sum of probabilities of all possible values of X\n",
    "\n",
    "### cdf is monotonically increasing\n",
    "As probability is always positive, summing up probabilities is monitonically increasing"
   ]
  },
  {
   "cell_type": "markdown",
   "metadata": {},
   "source": [
    "### Real-World Example - Servicing Customers\n",
    "\n",
    "Pg No: 124\n",
    "\n",
    "Prof. Poisson observes that on an average 70 people come to a lane on a weekday. He needs to determine the probability of no more than 2 people arriving at a lane in any one minute time span, because it takes one minute to service a customer and queue length should be at most 2.\n",
    "\n",
    "This can be modelled as a sequence of bernoulli trials where success is defined as customer arriving and failure otherwise in that time slice.\n",
    "\n",
    "If the time slice is 1 second then there are 60 trials and the probability that no more than 2 people arrive = \n",
    "bin(X <= 2) = bin(0) + bin(1) + bin(2)  \n",
    "M = 60, p = 70/3600\n",
    "\n",
    "The above model fails if two people arrive in the same second.\n",
    "If we reduce the time slice even more down to infinitismally small then we would have a poisson distribution with lambda = 70/60 -> expected customers per minute\n",
    "\n",
    "P(X<=2) = P(0,7/6) + P(1,7/6) + P(2,7/6) = 0.886; this is less than 95% and another lane is needed\n",
    "\n",
    "#### Book's Method\n",
    "Expected no:of people arriving at a lane in any minute halves. lambda = 7/12\n",
    "\n",
    "Probability of X<=2 in both lanes = P_lane1(X<=2) and P_lane2(X<=2)  \n",
    "= P(X<=2) * P(X<=2)  \n",
    "= poisson.cdf(2,7/12) * poisson.cdf(2,7/12)  \n",
    "= 0.9574605417971194\n",
    "\n",
    "#### My Method\n",
    "Since there are two lanes now, at most 4 people can arrive in any one minute span  \n",
    "P(X<=4) lambda=7/6 = 0.9930883484362362"
   ]
  },
  {
   "cell_type": "code",
   "execution_count": 2,
   "metadata": {},
   "outputs": [
    {
     "data": {
      "text/plain": [
       "(0.9574605417971194, 0.9930883484362362)"
      ]
     },
     "execution_count": 2,
     "metadata": {},
     "output_type": "execute_result"
    }
   ],
   "source": [
    "from scipy.stats import poisson\n",
    "\n",
    "poisson.cdf(2,7/12)**2, poisson.cdf(4,7/6)"
   ]
  },
  {
   "cell_type": "markdown",
   "metadata": {},
   "source": [
    "### Variation 1\n",
    "processing time = 1 minute  \n",
    "no:of customers per hour = 600  \n",
    "expected no:of cutomers for any one minute = 600/60 = 10  \n",
    "Outcome: No:of lanes required such that there are at most 2 people in the line 95% of the time\n",
    "\n",
    "#### Book's method\n",
    "P(X<=2)^L >= 95% and lambda = 10/L; L - number of lanes\n",
    "\n",
    "L = 54 lanes required for 600 customers per hour"
   ]
  },
  {
   "cell_type": "code",
   "execution_count": 3,
   "metadata": {
    "scrolled": true
   },
   "outputs": [
    {
     "name": "stdout",
     "output_type": "stream",
     "text": [
      "54\n"
     ]
    }
   ],
   "source": [
    "from scipy.stats import poisson\n",
    "mu = 600/60\n",
    "\n",
    "i = 1\n",
    "while True:\n",
    "    p = poisson.cdf(2, mu/i)**i\n",
    "    if p >= 0.95:\n",
    "        break\n",
    "    i = i+1\n",
    "print(i)"
   ]
  },
  {
   "cell_type": "markdown",
   "metadata": {},
   "source": [
    "#### My Method\n",
    "P(X<=2 * L) and lambda = 10; L - number of lanes\n",
    "\n",
    "L = 8 lanes required for 600 customers per hour"
   ]
  },
  {
   "cell_type": "code",
   "execution_count": 6,
   "metadata": {},
   "outputs": [
    {
     "name": "stdout",
     "output_type": "stream",
     "text": [
      "8\n"
     ]
    }
   ],
   "source": [
    "mu = 600/60\n",
    "i = 1\n",
    "while True:\n",
    "    p = poisson.cdf(2*i, mu)\n",
    "    if p >= 0.95:\n",
    "        break\n",
    "    i = i+1\n",
    "print(i)"
   ]
  },
  {
   "cell_type": "markdown",
   "metadata": {},
   "source": [
    "### Variation 2\n",
    "\n",
    "processing time = 5 minutes  \n",
    "no:of customers per hour = 70  \n",
    "Outcome: No:of lanes required such that there are at most 2 people in the line 95% of the time\n",
    "\n",
    "Now, in any 5 minute time span no more than 2 customers should arrive at a lane.\n",
    "Expected no:of customers for a 5 minute time span = 70/12\n",
    "\n",
    "\n",
    "#### Book's method\n",
    "P(X<=2)^L lambda = 600/(12 * L)\n",
    "\n",
    "24 lanes required"
   ]
  },
  {
   "cell_type": "code",
   "execution_count": 15,
   "metadata": {},
   "outputs": [
    {
     "name": "stdout",
     "output_type": "stream",
     "text": [
      "24\n"
     ]
    }
   ],
   "source": [
    "from scipy.stats import poisson\n",
    "mu = 70/12\n",
    "\n",
    "i = 1\n",
    "while True:\n",
    "    p = poisson.cdf(2, mu/i)**i\n",
    "    if p >= 0.95:\n",
    "        break\n",
    "    i = i+1\n",
    "print(i)"
   ]
  },
  {
   "cell_type": "markdown",
   "metadata": {},
   "source": [
    "#### My Method\n",
    "\n",
    "P(X<=2 * L) and lambda = 70/12; L - number of lanes\n",
    "\n",
    "L = 5 lanes required for 70 customers per hour with processing time of 5 minutes each."
   ]
  },
  {
   "cell_type": "code",
   "execution_count": 17,
   "metadata": {},
   "outputs": [
    {
     "name": "stdout",
     "output_type": "stream",
     "text": [
      "5\n"
     ]
    }
   ],
   "source": [
    "mu = 70/12\n",
    "i = 1\n",
    "while True:\n",
    "    p = poisson.cdf(2*i, mu)\n",
    "    if p >= 0.95:\n",
    "        break\n",
    "    i = i+1\n",
    "print(i)"
   ]
  },
  {
   "cell_type": "markdown",
   "metadata": {},
   "source": [
    "My method calculates the probability of no:of customers arriving in any 5 minute time span. This only works if there is one lane. In multiple lane scenario the 5 minute window is different for different lanes and needs to be calculated separetely."
   ]
  }
 ],
 "metadata": {
  "kernelspec": {
   "display_name": "Python 3.8.1 64-bit ('py38': conda)",
   "language": "python",
   "name": "python38164bitpy38conda967c08f5c3d0422a8f1710f914d7f0ce"
  },
  "language_info": {
   "codemirror_mode": {
    "name": "ipython",
    "version": 3
   },
   "file_extension": ".py",
   "mimetype": "text/x-python",
   "name": "python",
   "nbconvert_exporter": "python",
   "pygments_lexer": "ipython3",
   "version": "3.8.2"
  }
 },
 "nbformat": 4,
 "nbformat_minor": 4
}
