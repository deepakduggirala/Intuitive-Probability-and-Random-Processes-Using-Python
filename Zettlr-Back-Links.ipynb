{
 "cells": [
  {
   "cell_type": "code",
   "execution_count": 34,
   "metadata": {},
   "outputs": [],
   "source": [
    "import os\n",
    "import re"
   ]
  },
  {
   "cell_type": "code",
   "execution_count": 32,
   "metadata": {
    "collapsed": true
   },
   "outputs": [
    {
     "data": {
      "text/plain": [
       "['/Users/z00295n/Zettlr notes/Where are my notes.md',\n",
       " '/Users/z00295n/Zettlr notes/Zettlr Note Taking Commands.md',\n",
       " '/Users/z00295n/Zettlr notes/The Zettlekasten Method.md',\n",
       " '/Users/z00295n/Zettlr notes/Behavior/Body Image.md',\n",
       " '/Users/z00295n/Zettlr notes/Behavior/Worry Vs Fear Vs Anxiety.md',\n",
       " '/Users/z00295n/Zettlr notes/Behavior/Breathing Exercice (5-2-5).md',\n",
       " \"/Users/z00295n/Zettlr notes/Behavior/Introvert's Bill Of Rights.md\",\n",
       " '/Users/z00295n/Zettlr notes/Behavior/Small Talk.md',\n",
       " '/Users/z00295n/Zettlr notes/Behavior/Dump Sheet.md',\n",
       " '/Users/z00295n/Zettlr notes/Behavior/Overcome Shyness.md',\n",
       " '/Users/z00295n/Zettlr notes/Behavior/Questions.md',\n",
       " '/Users/z00295n/Zettlr notes/Behavior/Body Insecurities and Improvements Opportunities.md',\n",
       " '/Users/z00295n/Zettlr notes/Behavior/Mindful Meditation.md',\n",
       " '/Users/z00295n/Zettlr notes/Behavior/Potential Positives.md',\n",
       " '/Users/z00295n/Zettlr notes/Behavior/Goals In Life.md',\n",
       " '/Users/z00295n/Zettlr notes/System Administration/diff.md',\n",
       " '/Users/z00295n/Zettlr notes/System Administration/CentOS-Yum.md',\n",
       " '/Users/z00295n/Zettlr notes/System Administration/Mount Windows Drive on Linux.md',\n",
       " '/Users/z00295n/Zettlr notes/IUB/Onboarding Planning.md',\n",
       " '/Users/z00295n/Zettlr notes/Python/Top Level Script Environment.md',\n",
       " '/Users/z00295n/Zettlr notes/Python/Python.md',\n",
       " '/Users/z00295n/Zettlr notes/Python/Python Questions.md',\n",
       " '/Users/z00295n/Zettlr notes/General/HIT Mosquito repellant.md',\n",
       " '/Users/z00295n/Zettlr notes/General/Questions.md',\n",
       " '/Users/z00295n/Zettlr notes/Java/Abstract Classes and Methods.md',\n",
       " '/Users/z00295n/Zettlr notes/Java/Running Java Applications from cmdline.md',\n",
       " '/Users/z00295n/Zettlr notes/Java/Java Exceptions.md',\n",
       " '/Users/z00295n/Zettlr notes/Java/Generics.md',\n",
       " '/Users/z00295n/Zettlr notes/Java/Final Modifier.md',\n",
       " '/Users/z00295n/Zettlr notes/Java/Java Interfaces.md',\n",
       " '/Users/z00295n/Zettlr notes/Java/Java Polymorphism.md',\n",
       " '/Users/z00295n/Zettlr notes/Java/Java.md',\n",
       " '/Users/z00295n/Zettlr notes/Java/Design Patterns.md',\n",
       " '/Users/z00295n/Zettlr notes/Java/Anonymous Classes.md',\n",
       " '/Users/z00295n/Zettlr notes/Java/String Builder.md',\n",
       " '/Users/z00295n/Zettlr notes/Java/Primitive Types.md',\n",
       " '/Users/z00295n/Zettlr notes/Java/Static Modifier.md',\n",
       " '/Users/z00295n/Zettlr notes/Kotlin/Kotlin Types.md',\n",
       " '/Users/z00295n/Zettlr notes/Kotlin/Kotlin Syntax.md',\n",
       " '/Users/z00295n/Zettlr notes/Math/Depreciation & Amortization.md',\n",
       " '/Users/z00295n/Zettlr notes/Math/Why is x^0=1 and 0!=1-.md',\n",
       " '/Users/z00295n/Zettlr notes/Math/e.md',\n",
       " '/Users/z00295n/Zettlr notes/FIRE/Paying down debt.md',\n",
       " '/Users/z00295n/Zettlr notes/FIRE/Financial Goals.md',\n",
       " '/Users/z00295n/Zettlr notes/FIRE/FI Savings Rate.md',\n",
       " '/Users/z00295n/Zettlr notes/FIRE/Emergency Fund.md',\n",
       " '/Users/z00295n/Zettlr notes/FIRE/Expenses.md',\n",
       " '/Users/z00295n/Zettlr notes/FIRE/Safe Withdrawl Rate.md',\n",
       " '/Users/z00295n/Zettlr notes/FIRE/Lifestyle Creep.md',\n",
       " '/Users/z00295n/Zettlr notes/FIRE/Questions.md',\n",
       " '/Users/z00295n/Zettlr notes/FIRE/Budget.md',\n",
       " '/Users/z00295n/Zettlr notes/FIRE/FIRE.md',\n",
       " '/Users/z00295n/Zettlr notes/FIRE/Finance/Compounding Interest.md',\n",
       " '/Users/z00295n/Zettlr notes/FIRE/Finance/Mutual Funds.md',\n",
       " '/Users/z00295n/Zettlr notes/FIRE/Finance/Index.md',\n",
       " '/Users/z00295n/Zettlr notes/FIRE/Finance/Capacity Utilization and Inflation.md',\n",
       " '/Users/z00295n/Zettlr notes/FIRE/Finance/Long Term Capital Gains.md',\n",
       " '/Users/z00295n/Zettlr notes/FIRE/Finance/How HDFC FD Interest is Calculated.md',\n",
       " '/Users/z00295n/Zettlr notes/FIRE/Finance/Shorting Stock.md',\n",
       " '/Users/z00295n/Zettlr notes/FIRE/Finance/Real and Nominal Return.md',\n",
       " '/Users/z00295n/Zettlr notes/FIRE/Finance/Income Statement and Other Terminology.md',\n",
       " '/Users/z00295n/Zettlr notes/FIRE/Finance/Introduction to Stocks and Bonds.md',\n",
       " '/Users/z00295n/Zettlr notes/FIRE/Finance/Inflation.md',\n",
       " '/Users/z00295n/Zettlr notes/Interview/Java Mistakes.md',\n",
       " '/Users/z00295n/Zettlr notes/Interview/Java Interview.md',\n",
       " '/Users/z00295n/Zettlr notes/Interview/Handling Technical Questions.md',\n",
       " '/Users/z00295n/Zettlr notes/Interview/How to Prepare for Technical Questions.md',\n",
       " '/Users/z00295n/Zettlr notes/Interview/Cracking the Coding Interview.md',\n",
       " '/Users/z00295n/Zettlr notes/Interview/Approaches to develop algorithms.md',\n",
       " '/Users/z00295n/Zettlr notes/Interview/Questions.md',\n",
       " '/Users/z00295n/Zettlr notes/Interview/Resources to Prepare for Interview.md',\n",
       " '/Users/z00295n/Zettlr notes/Interview/Patterns/Patterns.md',\n",
       " '/Users/z00295n/Zettlr notes/Interview/Patterns/No Additional Data Structures.md',\n",
       " '/Users/z00295n/Zettlr notes/Recipes/Onion Samosa Recipe.md',\n",
       " '/Users/z00295n/Zettlr notes/Mental Models (thoughts)/Propaganda.md',\n",
       " '/Users/z00295n/Zettlr notes/Mental Models (thoughts)/Risk.md',\n",
       " '/Users/z00295n/Zettlr notes/Mental Models (thoughts)/Note Taking Notes.md',\n",
       " '/Users/z00295n/Zettlr notes/Mental Models (thoughts)/Small Doses.md',\n",
       " \"/Users/z00295n/Zettlr notes/Mental Models (thoughts)/Show, Don't tell.md\",\n",
       " '/Users/z00295n/Zettlr notes/Mental Models (thoughts)/Statements Vs Questions.md',\n",
       " \"/Users/z00295n/Zettlr notes/Mental Models (thoughts)/you can't tell people anything.md\",\n",
       " '/Users/z00295n/Zettlr notes/Mental Models (thoughts)/Constraints of the Medium.md',\n",
       " '/Users/z00295n/Zettlr notes/Mental Models (thoughts)/Never Again.md',\n",
       " '/Users/z00295n/Zettlr notes/Mental Models (thoughts)/Promotions.md',\n",
       " \"/Users/z00295n/Zettlr notes/Mental Models (thoughts)/Learn from Other People's Experience.md\",\n",
       " '/Users/z00295n/Zettlr notes/Mental Models (thoughts)/Software Programming Objective.md',\n",
       " '/Users/z00295n/Zettlr notes/Mental Models (thoughts)/Heuristics/Questions to Ask While Learning a Language.md',\n",
       " '/Users/z00295n/Zettlr notes/Mental Models (thoughts)/Heuristics/Looking Inward - Chakras in Avatar.md',\n",
       " '/Users/z00295n/Zettlr notes/Startup/Log Analysis.md',\n",
       " '/Users/z00295n/Zettlr notes/Startup/Visualizing Logs.md',\n",
       " '/Users/z00295n/Zettlr notes/Startup/Questions to ask Management.md']"
      ]
     },
     "execution_count": 32,
     "metadata": {},
     "output_type": "execute_result"
    }
   ],
   "source": [
    "root_dir = '/Users/z00295n/Zettlr notes'\n",
    "\n",
    "def get_all_markdown_files(root_dir):\n",
    "    markdown_files = []\n",
    "\n",
    "    for dirpath, dirnames, filenames in os.walk(root_dir):\n",
    "        if '.git' in dirnames:\n",
    "            dirnames.remove('.git')\n",
    "        markdown_files.extend([os.path.join(dirpath, f) for f in filenames if os.path.splitext(f)[-1] == '.md'])\n",
    "\n",
    "    return markdown_files\n",
    "\n",
    "# get_all_markdown_files(root_dir)"
   ]
  },
  {
   "cell_type": "code",
   "execution_count": 56,
   "metadata": {
    "collapsed": true
   },
   "outputs": [
    {
     "data": {
      "text/plain": [
       "['20200720205314', '20200720214335']"
      ]
     },
     "execution_count": 56,
     "metadata": {},
     "output_type": "execute_result"
    }
   ],
   "source": [
    "test_file='/Users/z00295n/Zettlr notes/FIRE/Emergency Fund.md'\n",
    "\n",
    "def get_links(filename):\n",
    "\n",
    "    with open(filename) as f:\n",
    "        content = f.read()\n",
    "        pattern = re.compile(r'\\d{14}')\n",
    "        return re.findall(pattern, content)\n",
    "    \n",
    "get_links(test_file)"
   ]
  },
  {
   "cell_type": "code",
   "execution_count": 76,
   "metadata": {},
   "outputs": [
    {
     "data": {
      "text/plain": [
       "{1: 'a', 2: 'b'}"
      ]
     },
     "execution_count": 76,
     "metadata": {},
     "output_type": "execute_result"
    }
   ],
   "source": [
    "d = {'a':1, 'b':2}\n",
    "\n",
    "invert_map = lambda f: dict((v,k) for k,v in f.items())\n",
    "\n",
    "invert_map(d)"
   ]
  },
  {
   "cell_type": "code",
   "execution_count": 77,
   "metadata": {},
   "outputs": [],
   "source": [
    "name_id_map = {}\n",
    "id_links_map = {}\n",
    "\n",
    "for f in get_all_markdown_files(root_dir):\n",
    "    links = get_links(f)\n",
    "    if len(links) > 0:\n",
    "        this_id = links[0]\n",
    "        other_links = links[1:]\n",
    "        \n",
    "        name_id_map[f] = this_id\n",
    "        \n",
    "        id_links_map[this_id] = other_links\n",
    "        \n",
    "id_name_map = invert_map(name_id_map)"
   ]
  },
  {
   "cell_type": "code",
   "execution_count": 70,
   "metadata": {},
   "outputs": [],
   "source": [
    "d={}\n",
    "d.update?"
   ]
  },
  {
   "cell_type": "code",
   "execution_count": 82,
   "metadata": {
    "collapsed": true
   },
   "outputs": [
    {
     "data": {
      "text/plain": [
       "{'20200726142417': {'20200726142924'},\n",
       " '20200620121411': {'20200726142924'},\n",
       " '20200725153738': {'20200725153659'},\n",
       " '20200725155543': {'20200725153659'},\n",
       " '20200707105116': {'20200708222633'},\n",
       " '20200708222332': {'20200707105116', '20200708222633'},\n",
       " '20200704120543': {'20200704120539', '20200704120950'},\n",
       " '20200704122228': {'20200704120539'},\n",
       " '20200704124846': {'20200704120543'},\n",
       " '20200704120950': {'20200704120543'},\n",
       " '20200704143417': {'20200704120543'},\n",
       " '20200704120539': {'20200704120543'},\n",
       " '20200704143915': {'20200704120543'},\n",
       " '20200704183521': {'20200704120543'},\n",
       " '20200705103141': {'20200704120543'},\n",
       " '20200704191303': {'20200704120543'},\n",
       " '20200705091722': {'20200704120543'},\n",
       " '20200705103124': {'20200704120543'},\n",
       " '20200706192556': {'20200704120543'},\n",
       " '20200705180152': {'20200704120543'},\n",
       " '20200707220053': {'20200704120543'},\n",
       " '20200720205314': {'20200714174416', '20200726231054'},\n",
       " '20200720214335': {'20200720205314'},\n",
       " '20200719141558': {'20200714174416', '20200725112728'},\n",
       " '20200719192355': {'20200714174416'},\n",
       " '20200718180216': {'20200716195356'},\n",
       " '20200727125006': {'20200725210842'},\n",
       " '20200716195356': {'20200715175504'},\n",
       " '20200715165521': {'20200715175504'},\n",
       " '20200715175450': {'20200715175504'},\n",
       " '20200716115946': {'20200715175504'},\n",
       " '20200716134754': {'20200715175504'},\n",
       " '20200716141558': {'20200715175504'},\n",
       " '20200716151215': {'20200715175504'},\n",
       " '20200718190238': {'20200715175504'},\n",
       " '20200714174416': {'20200715175504'},\n",
       " '20200715175504': {'20200715165521'},\n",
       " '20200708102205': {'20200708095544'},\n",
       " '20200708095544': {'20200704120950'},\n",
       " '20200707104915': {'20200705212939'},\n",
       " '20200707104424': {'20200707104915'},\n",
       " '20200725153659': {'20200725153738'},\n",
       " '20200624173400': {'20200625120447'},\n",
       " '20200625120447': {'20200624173400'},\n",
       " '20200625112106': {'20200625111438'}}"
      ]
     },
     "execution_count": 82,
     "metadata": {},
     "output_type": "execute_result"
    }
   ],
   "source": [
    "id_back_links_map = {}\n",
    "\n",
    "for this_id, links in id_links_map.items():\n",
    "    for l in links:\n",
    "        back_links = id_back_links_map.get(l, set())\n",
    "        back_links.add(this_id)\n",
    "        id_back_links_map[l] = back_links\n",
    "        \n",
    "id_back_links_map"
   ]
  },
  {
   "cell_type": "code",
   "execution_count": 85,
   "metadata": {},
   "outputs": [
    {
     "name": "stdout",
     "output_type": "stream",
     "text": [
      "/Users/z00295n/Zettlr notes/Python/Top Level Script Environment.md is linked in\n",
      "/Users/z00295n/Zettlr notes/Python/Python.md, /Users/z00295n/Zettlr notes/Python/Python Questions.md, "
     ]
    }
   ],
   "source": [
    "# '20200708222332': {'20200707105116', '20200708222633'},\n",
    "\n",
    "print(id_name_map['20200708222332'], 'is linked in')\n",
    "\n",
    "for i in {'20200707105116', '20200708222633'}:\n",
    "    print(id_name_map[i], end=', ')"
   ]
  }
 ],
 "metadata": {
  "kernelspec": {
   "display_name": "Python 3.8.1 64-bit ('py38': conda)",
   "language": "python",
   "name": "python38164bitpy38conda967c08f5c3d0422a8f1710f914d7f0ce"
  },
  "language_info": {
   "codemirror_mode": {
    "name": "ipython",
    "version": 3
   },
   "file_extension": ".py",
   "mimetype": "text/x-python",
   "name": "python",
   "nbconvert_exporter": "python",
   "pygments_lexer": "ipython3",
   "version": "3.8.2"
  }
 },
 "nbformat": 4,
 "nbformat_minor": 4
}
